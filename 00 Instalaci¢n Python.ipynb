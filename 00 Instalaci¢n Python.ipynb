{
 "cells": [
  {
   "cell_type": "markdown",
   "metadata": {},
   "source": [
    "# Python"
   ]
  },
  {
   "cell_type": "markdown",
   "metadata": {},
   "source": [
    "## Introducción"
   ]
  },
  {
   "cell_type": "markdown",
   "metadata": {},
   "source": [
    "Python es un lenguaje de alto nivel, orientado a objetos, interpretado, con una estructura de fácil legibilidad. Posee una gran y dinámica comunidad de desarrolladores que mantienen el más extenso conjunto de librerías científicas en general, y de Machine Learning en particular. "
   ]
  },
  {
   "cell_type": "markdown",
   "metadata": {},
   "source": [
    "## Instalación"
   ]
  },
  {
   "cell_type": "markdown",
   "metadata": {},
   "source": [
    "Los usuarios de Mac OS X y Linux ya poseen pre instalado python. \n",
    "\n",
    "Los usuarios de Windows pueden descargar Python de: https://www.python.org/downloads/ .\n",
    "\n",
    "No es conveniente descargarse la última versión, ya que algunas librerías externas pueden estar no actualizadas para dicha última versión."
   ]
  },
  {
   "cell_type": "markdown",
   "metadata": {},
   "source": [
    "### Otras distribuciones de Python"
   ]
  },
  {
   "cell_type": "markdown",
   "metadata": {},
   "source": [
    "El hecho de tener que instalar todas y cada una de las librerías externas necesarias para ejecutar programas en Python, hacen útil instalar otras distribuciones de Python: Anaconda ó Canopy.\n",
    "\n",
    "La ventaja es que estas distribuciones vienen con todas las librerías necesarias en Python incluido Jupyter Notebook."
   ]
  },
  {
   "cell_type": "markdown",
   "metadata": {},
   "source": [
    "#### Anaconda"
   ]
  },
  {
   "cell_type": "markdown",
   "metadata": {},
   "source": [
    "Para descargar Anaconda: https://www.anaconda.com/\n",
    "\n",
    "Anaconda es completamente gratuita e incluye más de 300 paquetes de Python. También están disponibles las versiones 2 y 3 de Python. "
   ]
  },
  {
   "cell_type": "markdown",
   "metadata": {},
   "source": [
    "####  Canopy"
   ]
  },
  {
   "cell_type": "markdown",
   "metadata": {},
   "source": [
    "Para descargar Canopy from https://store.enthought.com/downloads/#default\n",
    "\n",
    "Canopy tiene una versión gratuita y una versión premium que ofrece más de 300 paquetes de Python."
   ]
  },
  {
   "cell_type": "code",
   "execution_count": null,
   "metadata": {},
   "outputs": [],
   "source": []
  }
 ],
 "metadata": {
  "kernelspec": {
   "display_name": "Python 3",
   "language": "python",
   "name": "python3"
  },
  "language_info": {
   "codemirror_mode": {
    "name": "ipython",
    "version": 3
   },
   "file_extension": ".py",
   "mimetype": "text/x-python",
   "name": "python",
   "nbconvert_exporter": "python",
   "pygments_lexer": "ipython3",
   "version": "3.6.6"
  }
 },
 "nbformat": 4,
 "nbformat_minor": 1
}
