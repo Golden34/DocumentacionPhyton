{
 "cells": [
  {
   "cell_type": "markdown",
   "metadata": {},
   "source": [
    "# Clases en Python"
   ]
  },
  {
   "cell_type": "markdown",
   "metadata": {},
   "source": [
    "En este cuaderno aprederemos:\n",
    "    \n",
    "    - Declarar clases\n",
    "    - Constructores\n",
    "    - Instancia de clase\n",
    "    - Extensión de una clase\n",
    "    - Métodos\n",
    "    - Atributos\n",
    "        -Atributos de clase\n",
    "        -Atributos de instancia\n",
    "    - Herencia.\n",
    "    - Sobreescritura de métodos.\n",
    "    - Constructores y herencia.\n",
    "    - Polimorfismo"
   ]
  },
  {
   "cell_type": "markdown",
   "metadata": {},
   "source": [
    "Python puede trabajar como un lenguaje orientado a objetos. Aunque no se va a explicar qué es la POO, simplemente recordar que los objetos a los que se refiere, pretenden acercarse a la realidad que vemos. Así, cualquier objeto en la vida real tiene un Estado (actual), una serie de Propiedades y realiza una serie de Acciones.\n",
    "\n",
    "Para definir esos objetos se utiliza el concepto de clase, que es una abstracción de todas las posibles realidades que se podrían definir por ese concepto."
   ]
  },
  {
   "cell_type": "markdown",
   "metadata": {},
   "source": [
    "### Declaración de una clase\n",
    "\n",
    "Las clases se declaran así:"
   ]
  },
  {
   "cell_type": "markdown",
   "metadata": {},
   "source": [
    "class nombre_clase:\n",
    "\n",
    "    Funciones"
   ]
  },
  {
   "cell_type": "code",
   "execution_count": 1,
   "metadata": {},
   "outputs": [],
   "source": [
    "class PrimeraClase:\n",
    "    pass     # Pass en Python significa: No hacer nada"
   ]
  },
  {
   "cell_type": "markdown",
   "metadata": {},
   "source": [
    "A continuación, instanciamos un objeto de clase **\"PrimeraClase\"**. ejemclase tendrá todas las funcionalidades de la clase \"PrimeraClase\", por lo que ejemclase será una instancia de la clase PrimeraClase"
   ]
  },
  {
   "cell_type": "code",
   "execution_count": 2,
   "metadata": {},
   "outputs": [],
   "source": [
    "ejemclase = PrimeraClase()"
   ]
  },
  {
   "cell_type": "code",
   "execution_count": 3,
   "metadata": {},
   "outputs": [
    {
     "data": {
      "text/plain": [
       "__main__.PrimeraClase"
      ]
     },
     "execution_count": 3,
     "metadata": {},
     "output_type": "execute_result"
    }
   ],
   "source": [
    "type(ejemclase)   #si preguntamos por el tipo de la variable ejemclase... Nos dirá que es de tipo PrimeraClase dentro de main"
   ]
  },
  {
   "cell_type": "markdown",
   "metadata": {},
   "source": [
    "A las funciones de una clase, igual que en otros lenguajes orientados a objetos, se les llama **métodos**."
   ]
  },
  {
   "cell_type": "markdown",
   "metadata": {},
   "source": [
    "### Constructores\n",
    "\n",
    "La mayoría de las clases disponen de una función llamada **\"\\_\\_init\\_\\_\"**. Es uno de los llamados métodos mágicos. Con este método, se inicializan variables de clase o cualquier algoritmo inicial que sea aplicable a todos los métodos. A las variables dentro de una clase se las llama atributos, como en otros lenguajes POO."
   ]
  },
  {
   "cell_type": "markdown",
   "metadata": {},
   "source": [
    "Estos métodos, ayudan en el proceso de inicialización de la instancia. Así, si no tuviéramos estos **constructores**, habría que llamar a un método aparte que inicializara todo."
   ]
  },
  {
   "cell_type": "code",
   "execution_count": 4,
   "metadata": {},
   "outputs": [
    {
     "ename": "AttributeError",
     "evalue": "'PrimeraClase' object has no attribute 'init'",
     "output_type": "error",
     "traceback": [
      "\u001b[1;31m---------------------------------------------------------------------------\u001b[0m",
      "\u001b[1;31mAttributeError\u001b[0m                            Traceback (most recent call last)",
      "\u001b[1;32m<ipython-input-4-175df687a138>\u001b[0m in \u001b[0;36m<module>\u001b[1;34m\u001b[0m\n\u001b[0;32m      1\u001b[0m \u001b[0meg0\u001b[0m \u001b[1;33m=\u001b[0m \u001b[0mPrimeraClase\u001b[0m\u001b[1;33m(\u001b[0m\u001b[1;33m)\u001b[0m\u001b[1;33m\u001b[0m\u001b[1;33m\u001b[0m\u001b[0m\n\u001b[1;32m----> 2\u001b[1;33m \u001b[0meg0\u001b[0m\u001b[1;33m.\u001b[0m\u001b[0minit\u001b[0m\u001b[1;33m(\u001b[0m\u001b[1;33m)\u001b[0m\u001b[1;33m\u001b[0m\u001b[1;33m\u001b[0m\u001b[0m\n\u001b[0m",
      "\u001b[1;31mAttributeError\u001b[0m: 'PrimeraClase' object has no attribute 'init'"
     ]
    }
   ],
   "source": [
    "eg0 = PrimeraClase()\n",
    "eg0.init()"
   ]
  },
  {
   "cell_type": "markdown",
   "metadata": {},
   "source": [
    "Sin embargo, cuando se ha definido un constructor, **\\_\\_init\\_\\_** se le llamará al inicializar la instancia creada. "
   ]
  },
  {
   "cell_type": "code",
   "execution_count": 5,
   "metadata": {},
   "outputs": [],
   "source": [
    "class PrimeraClase:\n",
    "    a = 1\n",
    "    def __init__(self,nombre,simbolo): #constructor de la clase\n",
    "        self.__name = nombre\n",
    "        self.symbol = simbolo"
   ]
  },
  {
   "cell_type": "markdown",
   "metadata": {},
   "source": [
    "En Python es obligatorio que el primer parámetro de un método de clase sea **self**. Este Self es equivalente al **this** de otros lenguajes, salvo que en los otros lenguajes no hay que declararlo explícitamente.\n",
    "\n",
    "**Self** hace referencia a todo lo que contiene una clase. Pero siempre desde el punto de vista de una instancia. Por ejemplo se usa self para dar valor a los atributos de la clase"
   ]
  },
  {
   "cell_type": "markdown",
   "metadata": {},
   "source": [
    "### Instancia de una clase\n",
    "\n",
    "Una instancia se podría decir que es como una copia personalizada de una clase\n",
    "Para crear una instancia, basta con llamar al constructor. En este caso, creamos dos instancias de la clase con dos argumentos:"
   ]
  },
  {
   "cell_type": "code",
   "execution_count": 12,
   "metadata": {},
   "outputs": [],
   "source": [
    "eg1 = PrimeraClase('uno',1)\n",
    "eg2 = PrimeraClase('dos',2)\n",
    "eg2.melainvento = 4"
   ]
  },
  {
   "cell_type": "code",
   "execution_count": 7,
   "metadata": {},
   "outputs": [
    {
     "ename": "AttributeError",
     "evalue": "'PrimeraClase' object has no attribute 'name'",
     "output_type": "error",
     "traceback": [
      "\u001b[1;31m---------------------------------------------------------------------------\u001b[0m",
      "\u001b[1;31mAttributeError\u001b[0m                            Traceback (most recent call last)",
      "\u001b[1;32m<ipython-input-7-1e025abf832b>\u001b[0m in \u001b[0;36m<module>\u001b[1;34m\u001b[0m\n\u001b[1;32m----> 1\u001b[1;33m \u001b[0mprint\u001b[0m \u001b[1;33m(\u001b[0m\u001b[0meg1\u001b[0m\u001b[1;33m.\u001b[0m\u001b[0mname\u001b[0m\u001b[1;33m,\u001b[0m \u001b[0meg1\u001b[0m\u001b[1;33m.\u001b[0m\u001b[0msymbol\u001b[0m\u001b[1;33m)\u001b[0m\u001b[1;33m\u001b[0m\u001b[1;33m\u001b[0m\u001b[0m\n\u001b[0m\u001b[0;32m      2\u001b[0m \u001b[0mprint\u001b[0m \u001b[1;33m(\u001b[0m\u001b[0meg2\u001b[0m\u001b[1;33m.\u001b[0m\u001b[0mname\u001b[0m\u001b[1;33m,\u001b[0m \u001b[0meg2\u001b[0m\u001b[1;33m.\u001b[0m\u001b[0msymbol\u001b[0m\u001b[1;33m)\u001b[0m\u001b[1;33m\u001b[0m\u001b[1;33m\u001b[0m\u001b[0m\n",
      "\u001b[1;31mAttributeError\u001b[0m: 'PrimeraClase' object has no attribute 'name'"
     ]
    }
   ],
   "source": [
    "print (eg1.name, eg1.symbol)\n",
    "print (eg2.name, eg2.symbol)"
   ]
  },
  {
   "cell_type": "markdown",
   "metadata": {},
   "source": [
    "**dir( )**  es una función muy útil que nos permite saber qué contiene la clase y qué metodos ofrece. "
   ]
  },
  {
   "cell_type": "code",
   "execution_count": 9,
   "metadata": {},
   "outputs": [
    {
     "data": {
      "text/plain": [
       "['__class__',\n",
       " '__delattr__',\n",
       " '__dict__',\n",
       " '__dir__',\n",
       " '__doc__',\n",
       " '__eq__',\n",
       " '__format__',\n",
       " '__ge__',\n",
       " '__getattribute__',\n",
       " '__gt__',\n",
       " '__hash__',\n",
       " '__init__',\n",
       " '__init_subclass__',\n",
       " '__le__',\n",
       " '__lt__',\n",
       " '__module__',\n",
       " '__ne__',\n",
       " '__new__',\n",
       " '__reduce__',\n",
       " '__reduce_ex__',\n",
       " '__repr__',\n",
       " '__setattr__',\n",
       " '__sizeof__',\n",
       " '__str__',\n",
       " '__subclasshook__',\n",
       " '__weakref__']"
      ]
     },
     "execution_count": 9,
     "metadata": {},
     "output_type": "execute_result"
    }
   ],
   "source": [
    "dir(PrimeraClase)"
   ]
  },
  {
   "cell_type": "markdown",
   "metadata": {},
   "source": [
    "**dir( )** sobre una instancia, nos muestra los atributos definidos"
   ]
  },
  {
   "cell_type": "code",
   "execution_count": 13,
   "metadata": {},
   "outputs": [
    {
     "data": {
      "text/plain": [
       "['_PrimeraClase__name',\n",
       " '__class__',\n",
       " '__delattr__',\n",
       " '__dict__',\n",
       " '__dir__',\n",
       " '__doc__',\n",
       " '__eq__',\n",
       " '__format__',\n",
       " '__ge__',\n",
       " '__getattribute__',\n",
       " '__gt__',\n",
       " '__hash__',\n",
       " '__init__',\n",
       " '__init_subclass__',\n",
       " '__le__',\n",
       " '__lt__',\n",
       " '__module__',\n",
       " '__ne__',\n",
       " '__new__',\n",
       " '__reduce__',\n",
       " '__reduce_ex__',\n",
       " '__repr__',\n",
       " '__setattr__',\n",
       " '__sizeof__',\n",
       " '__str__',\n",
       " '__subclasshook__',\n",
       " '__weakref__',\n",
       " 'symbol']"
      ]
     },
     "execution_count": 13,
     "metadata": {},
     "output_type": "execute_result"
    }
   ],
   "source": [
    "dir(eg1)"
   ]
  },
  {
   "cell_type": "markdown",
   "metadata": {},
   "source": [
    "dir(eg2)"
   ]
  },
  {
   "cell_type": "markdown",
   "metadata": {},
   "source": [
    "### Extensión de una clase.\n",
    "\n",
    "Una vez que eg1 y eg2 son instancias de PrimeraClase, no necesariamente se deben limitar a lo definido por PrimeraClase. Ellas podrían extender la clase declarando otros atributos sin que deba estar declarado en PrimeraClase."
   ]
  },
  {
   "cell_type": "code",
   "execution_count": 24,
   "metadata": {},
   "outputs": [],
   "source": [
    "eg1.cube = 1\n",
    "eg2.cube = 8"
   ]
  },
  {
   "cell_type": "code",
   "execution_count": 25,
   "metadata": {},
   "outputs": [
    {
     "data": {
      "text/plain": [
       "['__class__',\n",
       " '__delattr__',\n",
       " '__dict__',\n",
       " '__dir__',\n",
       " '__doc__',\n",
       " '__eq__',\n",
       " '__format__',\n",
       " '__ge__',\n",
       " '__getattribute__',\n",
       " '__gt__',\n",
       " '__hash__',\n",
       " '__init__',\n",
       " '__init_subclass__',\n",
       " '__le__',\n",
       " '__lt__',\n",
       " '__module__',\n",
       " '__ne__',\n",
       " '__new__',\n",
       " '__reduce__',\n",
       " '__reduce_ex__',\n",
       " '__repr__',\n",
       " '__setattr__',\n",
       " '__sizeof__',\n",
       " '__str__',\n",
       " '__subclasshook__',\n",
       " '__weakref__',\n",
       " 'cube',\n",
       " 'name',\n",
       " 'symbol']"
      ]
     },
     "execution_count": 25,
     "metadata": {},
     "output_type": "execute_result"
    }
   ],
   "source": [
    "dir(eg1)"
   ]
  },
  {
   "cell_type": "markdown",
   "metadata": {
    "collapsed": true
   },
   "source": [
    "Al igual que las funciones tenían variables locales y globales, las clases tienen dos tipos de atributos. \n",
    "\n",
    "Atributo de Clase: Atributos que se puede llamar fuera de la clase y que es aplicable a todas las instancias. \n",
    "\n",
    "Atributo de Instancia: Atributos definidos dentro de un metodo y que son aplicables sólo para ese método y esa instancia. "
   ]
  },
  {
   "cell_type": "code",
   "execution_count": 14,
   "metadata": {},
   "outputs": [],
   "source": [
    "class PrimeraClase:\n",
    "    contador = 0\n",
    "    def __init__(self,nombre,simbolo):\n",
    "        self.name = nombre\n",
    "        self.symbol = simbolo"
   ]
  },
  {
   "cell_type": "markdown",
   "metadata": {},
   "source": [
    "Ahora, contador es un atributo o variable de clase y nombre es un atributo de instancia."
   ]
  },
  {
   "cell_type": "code",
   "execution_count": 15,
   "metadata": {},
   "outputs": [],
   "source": [
    "eg3 = PrimeraClase('Tres',3)\n",
    "eg4 = PrimeraClase('Cuatro',4)"
   ]
  },
  {
   "cell_type": "code",
   "execution_count": 19,
   "metadata": {},
   "outputs": [
    {
     "name": "stdout",
     "output_type": "stream",
     "text": [
      "3 Tres\n",
      "3 Cuatro\n",
      "3 Cuatro\n",
      "4 Cuatro\n"
     ]
    }
   ],
   "source": [
    "print (eg3.contador, eg3.name)\n",
    "PrimeraClase.contador +=1\n",
    "print (eg4.contador, eg4.name)\n",
    "eg3.contador +=1\n",
    "print(eg4.contador, eg4.name)\n",
    "print(eg3.contador, eg4.name)"
   ]
  },
  {
   "cell_type": "code",
   "execution_count": null,
   "metadata": {},
   "outputs": [],
   "source": [
    "eg3.test = \"otroTest\"\n",
    "print(eg4.test, eg3.test)"
   ]
  },
  {
   "cell_type": "markdown",
   "metadata": {},
   "source": [
    "Podemos definir otros métodos no constructores a PrimeraClase"
   ]
  },
  {
   "cell_type": "code",
   "execution_count": 37,
   "metadata": {},
   "outputs": [],
   "source": [
    "class PrimeraClase:\n",
    "    test = 'test'\n",
    "    def __init__(self,nombre,simbolo):\n",
    "        self.name = nombre\n",
    "        self.symbol = simbolo\n",
    "    def cuadrado(self):\n",
    "        return self.symbol * self.symbol\n",
    "    def cubo(self):\n",
    "        return self.symbol * self.symbol * self.symbol\n",
    "    def multiplicar(self, x):\n",
    "        return self.symbol * x"
   ]
  },
  {
   "cell_type": "code",
   "execution_count": 38,
   "metadata": {},
   "outputs": [],
   "source": [
    "eg5 = PrimeraClase('Cinco',5)"
   ]
  },
  {
   "cell_type": "code",
   "execution_count": 39,
   "metadata": {},
   "outputs": [
    {
     "name": "stdout",
     "output_type": "stream",
     "text": [
      "25\n",
      "125\n"
     ]
    }
   ],
   "source": [
    "print (eg5.cuadrado())\n",
    "print (eg5.cubo())"
   ]
  },
  {
   "cell_type": "code",
   "execution_count": 40,
   "metadata": {},
   "outputs": [
    {
     "data": {
      "text/plain": [
       "10"
      ]
     },
     "execution_count": 40,
     "metadata": {},
     "output_type": "execute_result"
    }
   ],
   "source": [
    "eg5.multiplicar(2)"
   ]
  },
  {
   "cell_type": "markdown",
   "metadata": {},
   "source": [
    "### Encapsulación\n",
    "\n",
    "El término encapsulación se refiere a la capacidad de las clases de ocultar y a la vez agrupar el código que hace alguna acción. Es semejante al concepto de caja negra.\n",
    "\n",
    "Con esta ocultación evitamos que se puedan modificar elementos propios de la clase directamente desde fuera, evitando usos indebidos y comportamientos extraños.\n",
    "\n",
    "La forma que tiene Python de encapsular propiedades es la siguiente: añadir 2 __ al atributo"
   ]
  },
  {
   "cell_type": "code",
   "execution_count": 20,
   "metadata": {},
   "outputs": [],
   "source": [
    "# por ejemplo en un método constructor\n",
    "def __init__(self,nombre,simbolo):\n",
    "    self.__name = nombre # atributo encapsulado, no se puede acceder desde fuera\n",
    "    self.symbol = simbolo  # atributo no ecapsulado, se puede acceder desde fuera"
   ]
  },
  {
   "cell_type": "markdown",
   "metadata": {},
   "source": [
    "A este atributo __ name, siempre que se le coloque los dos guiones delante, se podrá acceder desde cualquier lugar DENTRO la clase. (Cualquier método podrá hacer uso de este atributo)\n",
    "\n",
    "De igual modo, si queremos encapsular un método, basta con añadir en la definición los dos __ delante del nombre."
   ]
  },
  {
   "cell_type": "code",
   "execution_count": null,
   "metadata": {},
   "outputs": [],
   "source": [
    "def __metodoInterno(self,simbolo2):\n",
    "    self.symbol = simbolo2\n",
    "    \n",
    "# y por supuesto, cada vez que se llame al método DENTRO de la clase:\n",
    "__metodoInterno()\n",
    "\n",
    "# porque fuera, al ser un método interno, no se lo puede llamar   "
   ]
  },
  {
   "cell_type": "markdown",
   "metadata": {},
   "source": [
    "### Herencia"
   ]
  },
  {
   "cell_type": "markdown",
   "metadata": {},
   "source": [
    "Al igual que otros lenguajes en POO, Python soporta el concepto de herencia. En el cual una nueva clase puede heredar las características previas de otra clase anterior."
   ]
  },
  {
   "cell_type": "code",
   "execution_count": 29,
   "metadata": {},
   "outputs": [],
   "source": [
    "class Ingeniero:\n",
    "    def __init__(self,nombre,edad):\n",
    "        self.nombre = nombre\n",
    "        self.edad = edad\n",
    "    def salario(self, valor):\n",
    "        self.dinero = valor\n",
    "        print (self.nombre,\" gana \",self.dinero)"
   ]
  },
  {
   "cell_type": "code",
   "execution_count": 22,
   "metadata": {},
   "outputs": [],
   "source": [
    "a = Ingeniero('López',26)"
   ]
  },
  {
   "cell_type": "code",
   "execution_count": 23,
   "metadata": {},
   "outputs": [
    {
     "name": "stdout",
     "output_type": "stream",
     "text": [
      "López  gana  40000\n"
     ]
    }
   ],
   "source": [
    "a.salario(40000)"
   ]
  },
  {
   "cell_type": "code",
   "execution_count": 24,
   "metadata": {},
   "outputs": [
    {
     "data": {
      "text/plain": [
       "['__class__',\n",
       " '__delattr__',\n",
       " '__dict__',\n",
       " '__dir__',\n",
       " '__doc__',\n",
       " '__eq__',\n",
       " '__format__',\n",
       " '__ge__',\n",
       " '__getattribute__',\n",
       " '__gt__',\n",
       " '__hash__',\n",
       " '__init__',\n",
       " '__init_subclass__',\n",
       " '__le__',\n",
       " '__lt__',\n",
       " '__module__',\n",
       " '__ne__',\n",
       " '__new__',\n",
       " '__reduce__',\n",
       " '__reduce_ex__',\n",
       " '__repr__',\n",
       " '__setattr__',\n",
       " '__sizeof__',\n",
       " '__str__',\n",
       " '__subclasshook__',\n",
       " '__weakref__',\n",
       " 'salario']"
      ]
     },
     "execution_count": 24,
     "metadata": {},
     "output_type": "execute_result"
    }
   ],
   "source": [
    "dir(Ingeniero)"
   ]
  },
  {
   "cell_type": "markdown",
   "metadata": {},
   "source": [
    "Ahora vamos a crear otra clase: Artista, que nos dirá la cantidad de dinero que gana."
   ]
  },
  {
   "cell_type": "code",
   "execution_count": 25,
   "metadata": {},
   "outputs": [],
   "source": [
    "class Artista:\n",
    "    def __init__(self,nombre,edad):\n",
    "        self.nombre = nombre\n",
    "        self.edad = edad\n",
    "    def salario(self,valor):\n",
    "        self.dinero = valor\n",
    "        print (self.nombre,\" gana \",self.dinero)\n",
    "    def arteforma(self, trabajo):\n",
    "        self.trabajo = trabajo\n",
    "        print (self.nombre,\" es un \", self.trabajo)"
   ]
  },
  {
   "cell_type": "code",
   "execution_count": 26,
   "metadata": {},
   "outputs": [],
   "source": [
    "b = Artista('Pedro',20)"
   ]
  },
  {
   "cell_type": "code",
   "execution_count": 27,
   "metadata": {},
   "outputs": [
    {
     "name": "stdout",
     "output_type": "stream",
     "text": [
      "Pedro  gana  50000\n",
      "Pedro  es un  Musico\n"
     ]
    }
   ],
   "source": [
    "b.salario(50000)\n",
    "b.arteforma('Musico')"
   ]
  },
  {
   "cell_type": "code",
   "execution_count": 28,
   "metadata": {},
   "outputs": [
    {
     "data": {
      "text/plain": [
       "['__class__',\n",
       " '__delattr__',\n",
       " '__dict__',\n",
       " '__dir__',\n",
       " '__doc__',\n",
       " '__eq__',\n",
       " '__format__',\n",
       " '__ge__',\n",
       " '__getattribute__',\n",
       " '__gt__',\n",
       " '__hash__',\n",
       " '__init__',\n",
       " '__init_subclass__',\n",
       " '__le__',\n",
       " '__lt__',\n",
       " '__module__',\n",
       " '__ne__',\n",
       " '__new__',\n",
       " '__reduce__',\n",
       " '__reduce_ex__',\n",
       " '__repr__',\n",
       " '__setattr__',\n",
       " '__sizeof__',\n",
       " '__str__',\n",
       " '__subclasshook__',\n",
       " '__weakref__',\n",
       " 'arteforma',\n",
       " 'salario']"
      ]
     },
     "execution_count": 28,
     "metadata": {},
     "output_type": "execute_result"
    }
   ],
   "source": [
    "dir(Artista)"
   ]
  },
  {
   "cell_type": "markdown",
   "metadata": {},
   "source": [
    "Como Ingeniero también tiene el método Salario, podemos hacer que aparezca el mismo en ambas clases:"
   ]
  },
  {
   "cell_type": "code",
   "execution_count": 51,
   "metadata": {},
   "outputs": [],
   "source": [
    "class Artista(Ingeniero): #Artista heredará los métodos y atributos de la clase Ingeniero.\n",
    "    def __init__(self, nombre,edad, trabajo):\n",
    "        self.trabajo = trabajo\n",
    "        super().__init__(nombre,edad)\n",
    "    def trabajaen(self):\n",
    "        print (super().nombre,\" es un \", self.trabajo)"
   ]
  },
  {
   "cell_type": "code",
   "execution_count": 52,
   "metadata": {},
   "outputs": [
    {
     "ename": "AttributeError",
     "evalue": "'super' object has no attribute 'nombre'",
     "output_type": "error",
     "traceback": [
      "\u001b[1;31m---------------------------------------------------------------------------\u001b[0m",
      "\u001b[1;31mAttributeError\u001b[0m                            Traceback (most recent call last)",
      "\u001b[1;32m<ipython-input-52-d4e36931f14d>\u001b[0m in \u001b[0;36m<module>\u001b[1;34m\u001b[0m\n\u001b[0;32m      1\u001b[0m \u001b[0mc\u001b[0m \u001b[1;33m=\u001b[0m \u001b[0mArtista\u001b[0m\u001b[1;33m(\u001b[0m\u001b[1;34m'Jose'\u001b[0m\u001b[1;33m,\u001b[0m\u001b[1;36m20\u001b[0m\u001b[1;33m,\u001b[0m\u001b[1;34m'Musico'\u001b[0m\u001b[1;33m)\u001b[0m\u001b[1;33m\u001b[0m\u001b[1;33m\u001b[0m\u001b[0m\n\u001b[1;32m----> 2\u001b[1;33m \u001b[0mc\u001b[0m\u001b[1;33m.\u001b[0m\u001b[0mtrabajaen\u001b[0m\u001b[1;33m(\u001b[0m\u001b[1;33m)\u001b[0m\u001b[1;33m\u001b[0m\u001b[1;33m\u001b[0m\u001b[0m\n\u001b[0m",
      "\u001b[1;32m<ipython-input-51-5ba715ee00a0>\u001b[0m in \u001b[0;36mtrabajaen\u001b[1;34m(self)\u001b[0m\n\u001b[0;32m      4\u001b[0m         \u001b[0msuper\u001b[0m\u001b[1;33m(\u001b[0m\u001b[1;33m)\u001b[0m\u001b[1;33m.\u001b[0m\u001b[0m__init__\u001b[0m\u001b[1;33m(\u001b[0m\u001b[0mnombre\u001b[0m\u001b[1;33m,\u001b[0m\u001b[0medad\u001b[0m\u001b[1;33m)\u001b[0m\u001b[1;33m\u001b[0m\u001b[1;33m\u001b[0m\u001b[0m\n\u001b[0;32m      5\u001b[0m     \u001b[1;32mdef\u001b[0m \u001b[0mtrabajaen\u001b[0m\u001b[1;33m(\u001b[0m\u001b[0mself\u001b[0m\u001b[1;33m)\u001b[0m\u001b[1;33m:\u001b[0m\u001b[1;33m\u001b[0m\u001b[1;33m\u001b[0m\u001b[0m\n\u001b[1;32m----> 6\u001b[1;33m         \u001b[0mprint\u001b[0m \u001b[1;33m(\u001b[0m\u001b[0msuper\u001b[0m\u001b[1;33m(\u001b[0m\u001b[1;33m)\u001b[0m\u001b[1;33m.\u001b[0m\u001b[0mnombre\u001b[0m\u001b[1;33m,\u001b[0m\u001b[1;34m\" es un \"\u001b[0m\u001b[1;33m,\u001b[0m \u001b[0mself\u001b[0m\u001b[1;33m.\u001b[0m\u001b[0mtrabajo\u001b[0m\u001b[1;33m)\u001b[0m\u001b[1;33m\u001b[0m\u001b[1;33m\u001b[0m\u001b[0m\n\u001b[0m",
      "\u001b[1;31mAttributeError\u001b[0m: 'super' object has no attribute 'nombre'"
     ]
    }
   ],
   "source": [
    "c = Artista('Jose',20,'Musico')\n",
    "c.trabajaen()"
   ]
  },
  {
   "cell_type": "code",
   "execution_count": 58,
   "metadata": {},
   "outputs": [
    {
     "data": {
      "text/plain": [
       "['__class__',\n",
       " '__delattr__',\n",
       " '__dict__',\n",
       " '__dir__',\n",
       " '__doc__',\n",
       " '__eq__',\n",
       " '__format__',\n",
       " '__ge__',\n",
       " '__getattribute__',\n",
       " '__gt__',\n",
       " '__hash__',\n",
       " '__init__',\n",
       " '__init_subclass__',\n",
       " '__le__',\n",
       " '__lt__',\n",
       " '__module__',\n",
       " '__ne__',\n",
       " '__new__',\n",
       " '__reduce__',\n",
       " '__reduce_ex__',\n",
       " '__repr__',\n",
       " '__setattr__',\n",
       " '__sizeof__',\n",
       " '__str__',\n",
       " '__subclasshook__',\n",
       " '__weakref__',\n",
       " 'arteforma',\n",
       " 'salario']"
      ]
     },
     "execution_count": 58,
     "metadata": {},
     "output_type": "execute_result"
    }
   ],
   "source": [
    "dir(Artista)"
   ]
  },
  {
   "cell_type": "code",
   "execution_count": 59,
   "metadata": {},
   "outputs": [
    {
     "name": "stdout",
     "output_type": "stream",
     "text": [
      "Juan  gana  60000\n",
      "Juan  es un  Bailarín\n"
     ]
    }
   ],
   "source": [
    "c.salario(60000)\n",
    "c.arteforma('Bailarín')"
   ]
  },
  {
   "cell_type": "markdown",
   "metadata": {},
   "source": [
    "### Sobreescritura de métodos\n",
    "\n",
    "Si uno o varios de los métodos heredados no es compatible con el funcionamiento de la clase actual. Se puede sobreescribir el método definiéndolo de nuevo con el mismo nombre, dentro de la clase. "
   ]
  },
  {
   "cell_type": "code",
   "execution_count": 63,
   "metadata": {},
   "outputs": [],
   "source": [
    "class Artista(Ingeniero):\n",
    "    def arteforma(self, trabajo):\n",
    "        self.trabajo = trabajo\n",
    "        print (self.nombre,\" es un \", self.trabajo)\n",
    "    def salario(self, valor):\n",
    "        self.dinero = valor\n",
    "        print (self.nombre,\" gana \",self.dinero)\n",
    "        print (\"Se ha sobreescrito la clase Ingeniero\")"
   ]
  },
  {
   "cell_type": "code",
   "execution_count": 64,
   "metadata": {},
   "outputs": [],
   "source": [
    "c = Artista('Juan',21)"
   ]
  },
  {
   "cell_type": "code",
   "execution_count": 65,
   "metadata": {},
   "outputs": [
    {
     "name": "stdout",
     "output_type": "stream",
     "text": [
      "Juan  gana  60000\n",
      "Se ha sobreescrito la clase Ingeniero\n",
      "Juan  es un  Bailarín\n"
     ]
    }
   ],
   "source": [
    "c.salario(60000)\n",
    "c.arteforma('Bailarín')"
   ]
  },
  {
   "cell_type": "markdown",
   "metadata": {},
   "source": [
    "### Constructores y herencia\n",
    "\n",
    "El hecho de que el constructor siempre tenga el mismo nombre en todas las clase, trae problemas, ya sea en la herencia simple como en la múltiple. Lo sencillo por un lado, complica por otro.\n",
    "\n",
    "- En el caso de herencia simple, es posible que algunos atributos de la clase padre, no se definan y por tanto dé error.\n",
    "\n",
    "¿Cómo solucionarlo?"
   ]
  },
  {
   "cell_type": "markdown",
   "metadata": {},
   "source": [
    "#### Super()\n",
    "\n",
    "Super() es una función que nos permite invocar a métodos y atributos de la clase padre.\n",
    "\n",
    "Por ejemplo, si hiciéramos otra clase que heredase de Ingeniero, pero el constructor fuera distinto:"
   ]
  },
  {
   "cell_type": "code",
   "execution_count": 53,
   "metadata": {},
   "outputs": [],
   "source": [
    "class Ingeniero_Obras(Ingeniero):\n",
    "    def __init__(self, universidad, anno):\n",
    "        self.university = universidad\n",
    "        self.year = anno"
   ]
  },
  {
   "cell_type": "markdown",
   "metadata": {},
   "source": [
    "Para poder definir el nombre y la edad de la clase Ingeniero que hereda, deberíamos escribir en el método constructor:"
   ]
  },
  {
   "cell_type": "code",
   "execution_count": 55,
   "metadata": {},
   "outputs": [
    {
     "name": "stdout",
     "output_type": "stream",
     "text": [
      "Pedro Pérez\n"
     ]
    }
   ],
   "source": [
    "class Ingeniero_Obras(Ingeniero):\n",
    "    def __init__(self, universidad, año, nombre_Ingeniero, edad_Ingeniero):\n",
    "        super().__init__(nombre_Ingeniero, edad_Ingeniero)\n",
    "        self.university = universidad\n",
    "        self.year = año\n",
    "# y a la hora de instanciar:\n",
    "Empleado_IOb = Ingeniero_Obras(\"Complutense\",1999,\"Pedro Pérez\",32)\n",
    "# También está claro que si hubiera métodos de la clase Ingeniero que tuviéramos que sobreescribir\n",
    "# se haría también con super()\n",
    "\n",
    "class Directivo(Ingeniero_Obras):\n",
    "    def __init__(self)\n",
    "print(Empleado_IOb.nombre)"
   ]
  },
  {
   "cell_type": "markdown",
   "metadata": {},
   "source": [
    "### Polimorfismo\n",
    "\n",
    "Python es sin duda uno de los lenguajes que más sencillamente implementa el polimorfismo.\n",
    "\n",
    "Y esto es simplemente porque es un lenguaje de tipado dinámico.\n",
    "\n",
    "El polimorfismo es la capacidad de utilizar de forma genérica objetos de distinta clase.\n",
    "\n",
    "Por ejemplo. Si varias clases tienen un método con el mismo nombre, y según el tipo de clase, ese método hace cosas distintas, con polimorfismo, podemos implementar funciones que sea del tipo de clase que sea, se pueda ejecutar ese método:"
   ]
  },
  {
   "cell_type": "code",
   "execution_count": 2,
   "metadata": {},
   "outputs": [
    {
     "name": "stdout",
     "output_type": "stream",
     "text": [
      "Grado en Informática. 4 años. Dificultad: Alta\n",
      "Grado en Magisterio. 3 años. Dificultad: Media\n",
      "Grado en Ingeniería de camino. 4 años. Dificultad: Alta\n"
     ]
    }
   ],
   "source": [
    "# vamos con un ejemplo sencillo, sencillo\n",
    "\n",
    "# tenemos estas clases con un método que en todas se llama igual\n",
    "\n",
    "class Carrera_Informatica():\n",
    "    def descripcion(self):\n",
    "        print(\"Grado en Informática. 4 años. Dificultad: Alta\")\n",
    "\n",
    "class Carrera_Profesorado():\n",
    "    def descripcion(self):\n",
    "        print(\"Grado en Magisterio. 3 años. Dificultad: Media\")\n",
    "        \n",
    "class Carrera_Caminos():\n",
    "    def descripcion(self):\n",
    "        print(\"Grado en Ingeniería de camino. 4 años. Dificultad: Alta\")\n",
    "        \n",
    "# ahora podemos definir una función que admita cualquier tipo de clase y llame al método que\n",
    "# se llama igual en todas.\n",
    "\n",
    "def Informa_Carrera(carrera):\n",
    "    carrera.descripcion()\n",
    "    \n",
    "# ahora podemos crear instancias de las distintas clases, que la función Informa_Carrera\n",
    "# aplicará polimorfismo y las ejecutará sin problemas, aunque las clases sean distintas.\n",
    "\n",
    "carrera1=Carrera_Informatica()\n",
    "Informa_Carrera(carrera1)\n",
    "carrera2=Carrera_Profesorado()\n",
    "Informa_Carrera(carrera2)\n",
    "carrera3=Carrera_Caminos()\n",
    "Informa_Carrera(carrera3)"
   ]
  },
  {
   "cell_type": "code",
   "execution_count": null,
   "metadata": {},
   "outputs": [],
   "source": []
  },
  {
   "cell_type": "markdown",
   "metadata": {},
   "source": [
    "# ---- Ejercicio\n",
    "\n",
    "Queremos implementar con clases todo un mecanismo de login con contraseña, incluyendo crear nuevo usuario y contraseña, loguearse , contraseña perdida, etc.\n"
   ]
  },
  {
   "cell_type": "code",
   "execution_count": null,
   "metadata": {},
   "outputs": [],
   "source": [
    "# Escribe el código a partir de aquí"
   ]
  },
  {
   "cell_type": "code",
   "execution_count": null,
   "metadata": {},
   "outputs": [],
   "source": []
  }
 ],
 "metadata": {
  "kernelspec": {
   "display_name": "Python 3",
   "language": "python",
   "name": "python3"
  },
  "language_info": {
   "codemirror_mode": {
    "name": "ipython",
    "version": 3
   },
   "file_extension": ".py",
   "mimetype": "text/x-python",
   "name": "python",
   "nbconvert_exporter": "python",
   "pygments_lexer": "ipython3",
   "version": "3.6.8"
  }
 },
 "nbformat": 4,
 "nbformat_minor": 1
}
