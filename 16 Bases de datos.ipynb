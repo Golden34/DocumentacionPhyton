{
 "cells": [
  {
   "cell_type": "markdown",
   "metadata": {},
   "source": [
    "# Bases de datos en Python"
   ]
  },
  {
   "cell_type": "markdown",
   "metadata": {},
   "source": [
    "En este cuaderno aprenderemos:\n",
    "\n",
    "    -Introduccion a las Bases de datos en Python\n",
    "        -Pasos genéricos a la hora de trabajar con BBDD\n",
    "        -Otras operaciones CRUD\n",
    "        -Módulos de BBDD comunes.\n",
    "   "
   ]
  },
  {
   "cell_type": "markdown",
   "metadata": {},
   "source": [
    "## Introducción a las BBDD en Python"
   ]
  },
  {
   "cell_type": "markdown",
   "metadata": {},
   "source": [
    "En Python podemos conectar y trabajar con cualquiera de los distintos tipos de BBDD relacionales y NoSQL existentes en el mercado.\n",
    "\n",
    "Para todas ellas hay un módulo que contiene la forma de comunicarse con el motor de Base de Datos al que representa. (SQL Server, Oracle, MySql, SQLite, PostgreSQL, etc. O bien MongoDB, Cassandra, Redis, etc.)\n",
    "\n",
    "### Pasos genéricos a la hora de trabajar con BBDD.\n",
    "\n",
    "0. Importar el módulo adecuado a la BBDD\n",
    "1. Abrir o crear la conexión con la base de datos.\n",
    "2. Crear puntero\n",
    "3. Ejecutar la consulta SQL (o No-SQL)\n",
    "4. Manejar los resultados de la consulta (CRUD)\n",
    "5. Cerrar puntero\n",
    "6. Cerrar conexión.\n",
    "\n",
    "Veamos un ejemplo con SQLite ya que es el módulo estandar de BBDD para Python y no hay que instalar nada:"
   ]
  },
  {
   "cell_type": "code",
   "execution_count": 6,
   "metadata": {},
   "outputs": [],
   "source": [
    "# paso 0\n",
    "import sqlite3\n",
    "\n",
    "# paso 1\n",
    "conexion=sqlite3.connect(\"miBaseDatos\")\n",
    "\n",
    "# paso 2\n",
    "puntero=conexion.cursor()\n",
    "\n",
    "# paso 3\n",
    "puntero.execute(\"CREATE TABLE DATOS (Id INTEGER PRIMARY KEY AUTOINCREMENT, NOMBRE VARCHAR(50), EDAD INTEGER, DOMICILIO VARCHAR(50))\")\n",
    "\n",
    "# para evitar estar constreñidos a una sóla linea, podemos escribir en varias lineas si en vez de\n",
    "# una comilla doble simple o doble para el texto, escribimos tres simples antes y después de la \n",
    "# instruccion:\n",
    "\n",
    "# puntero.execute('''\n",
    "#    CREATE TABLE DATOS\n",
    "#    (NOMBRE VARCHAR(50),\n",
    "#     EDAD INT,\n",
    "#     DOMICILIO VARCHAR(50))\n",
    "# ''')\n",
    "\n",
    "puntero.execute(\"INSERT INTO DATOS VALUES (1,'JOSE RAMON', 20, 'MI CALLE, 20')\")\n",
    "\n",
    "# paso 4\n",
    "# En este caso que estamos añadiendo información, simplemente hay que validar que queremos\n",
    "# hacer los cambios con commit. En otros casos sería manipular la información obtenida\n",
    "# desde una SELECT etc.\n",
    "conexion.commit()\n",
    "\n",
    "# paso 5\n",
    "puntero.close()\n",
    "\n",
    "# paso 6\n",
    "conexion.close()"
   ]
  },
  {
   "cell_type": "markdown",
   "metadata": {},
   "source": [
    "Aparentemente no ha pasado nada, sin embargo, hemos creado una base de datos con un sólo registro. Si podemos visualizar el contenido de la base de datos con algún browser de SQLite, veremos el resultado.\n"
   ]
  },
  {
   "cell_type": "markdown",
   "metadata": {},
   "source": [
    "### Otras operaciones CRUD\n",
    "\n",
    "#### Insertar varios registros a la vez\n",
    "\n",
    "Hasta ahora hemos insertado un solo registro, pero esto no es muy útil, ya que puede que nuestra Base de Datos se tenga que rellenar con el resultado de un proceso, o de un log, etc. A continuación vamos a ver cómo se insertarían varios registros a partir de una lista de tuplas.\n"
   ]
  },
  {
   "cell_type": "code",
   "execution_count": 7,
   "metadata": {},
   "outputs": [],
   "source": [
    "# paso 0\n",
    "import sqlite3\n",
    "\n",
    "# paso 1\n",
    "conexion=sqlite3.connect(\"miBaseDatos\")\n",
    "\n",
    "# paso 2\n",
    "puntero=conexion.cursor()\n",
    "# lista de tuplas de valores a insertar\n",
    "nombres=[\n",
    "    (\"PEDRO\",34,\"OLIVO,27\"),\n",
    "    (\"JUAN\",39,\"NARVAEZ,20\"),\n",
    "    (\"ANTONIO\",20,\"RONDA DEL ARCE,20\")]\n",
    "# paso 3\n",
    "# para insertar muchos, la diferencia es que hay que colocar tantos ? como campos en la tupla\n",
    "# El NULL que aparece al principio, permite introducir los valores del índice de forma autoincremental\n",
    "\n",
    "puntero.executemany(\"INSERT INTO DATOS VALUES (NULL,?,?,?)\",nombres)\n",
    "\n",
    "# paso 4\n",
    "# En este caso que estamos añadiendo información, simplemente hay que validar que queremos\n",
    "# hacer los cambios con commit. En otros casos sería manipular la información obtenida\n",
    "# desde una SELECT etc.\n",
    "conexion.commit()\n",
    "\n",
    "# paso 5\n",
    "puntero.close()\n",
    "\n",
    "# paso 6\n",
    "conexion.close()"
   ]
  },
  {
   "cell_type": "markdown",
   "metadata": {},
   "source": [
    "Tampoco parece pasar nada, pero se han insertado todos los registros.\n",
    "\n",
    "#### Consultar información de una base de datos\n",
    "\n",
    "En SQL, las consultas se realizan con SELECT. A continuación un ejemplo\n"
   ]
  },
  {
   "cell_type": "code",
   "execution_count": 8,
   "metadata": {},
   "outputs": [
    {
     "name": "stdout",
     "output_type": "stream",
     "text": [
      "(1, 'JOSE RAMON', 20, 'MI CALLE, 20')\n",
      "(2, 'PEDRO', 34, 'OLIVO,27')\n",
      "(3, 'JUAN', 39, 'NARVAEZ,20')\n",
      "(4, 'ANTONIO', 20, 'RONDA DEL ARCE,20')\n"
     ]
    }
   ],
   "source": [
    "# paso 0\n",
    "import sqlite3\n",
    "\n",
    "# paso 1\n",
    "conexion=sqlite3.connect(\"miBaseDatos\")\n",
    "\n",
    "# paso 2\n",
    "puntero=conexion.cursor()\n",
    "\n",
    "# paso 3\n",
    "\n",
    "puntero.execute(\"SELECT * FROM DATOS\")\n",
    "\n",
    "# paso 4\n",
    "# con .fetchall obtenemos en forma de lista todos los datos almacenados\n",
    "consultaNombres = puntero.fetchall()\n",
    "for nom in consultaNombres:\n",
    "    print(nom)\n",
    "# cada nom es una tupla\n",
    "# si quisiéramos poner sólo uno de los elementos, deberíamos poner nom[0] o nom[1] etc\n",
    "\n",
    "conexion.commit()\n",
    "\n",
    "# paso 5\n",
    "puntero.close()\n",
    "\n",
    "# paso 6\n",
    "conexion.close()"
   ]
  },
  {
   "cell_type": "markdown",
   "metadata": {},
   "source": [
    "#### Modificar registros (UPDATE)"
   ]
  },
  {
   "cell_type": "markdown",
   "metadata": {},
   "source": [
    "Update tiene una sintaxis similar a SELECT, por lo que, aquello que queramos modificar, antes debe ser filtrado"
   ]
  },
  {
   "cell_type": "code",
   "execution_count": 10,
   "metadata": {},
   "outputs": [],
   "source": [
    "# paso 0\n",
    "import sqlite3\n",
    "\n",
    "# paso 1\n",
    "conexion=sqlite3.connect(\"miBaseDatos\")\n",
    "\n",
    "# paso 2\n",
    "puntero=conexion.cursor()\n",
    "\n",
    "# paso 3\n",
    "\n",
    "puntero.execute(\"UPDATE DATOS SET EDAD = 21 WHERE NOMBRE ='JOSE RAMON'\")\n",
    "\n",
    "# paso 4\n",
    "\n",
    "conexion.commit()\n",
    "\n",
    "# paso 5\n",
    "puntero.close()\n",
    "\n",
    "# paso 6\n",
    "conexion.close()"
   ]
  },
  {
   "cell_type": "markdown",
   "metadata": {},
   "source": [
    "#### Eliminar registros (DELETE)\n",
    "\n",
    "Al igual que UPDATE, antes de borrar hay que elegir qué se debe borrar.\n",
    "Una buena práctica es realizar un SELECT con la misma condición para saber qué registros se están seleccionando, porque el borrado no tiene vuelta atrás.\n"
   ]
  },
  {
   "cell_type": "code",
   "execution_count": 11,
   "metadata": {},
   "outputs": [],
   "source": [
    "# paso 0\n",
    "import sqlite3\n",
    "\n",
    "# paso 1\n",
    "conexion=sqlite3.connect(\"miBaseDatos\")\n",
    "\n",
    "# paso 2\n",
    "puntero=conexion.cursor()\n",
    "\n",
    "# paso 3\n",
    "\n",
    "puntero.execute(\"DELETE FROM DATOS WHERE Id>3\")\n",
    "\n",
    "# paso 4\n",
    "\n",
    "conexion.commit()\n",
    "\n",
    "# paso 5\n",
    "puntero.close()\n",
    "\n",
    "# paso 6\n",
    "conexion.close()"
   ]
  },
  {
   "cell_type": "markdown",
   "metadata": {},
   "source": [
    "Aunque es cierto que cada Base de Datos puede aplicar ligeros cambios sobre la forma de implementar las operaciones CRUD vistas, los cambios son tan pequeños, que poco sentido tiene repetir todo para cada una de las bases de datos.\n",
    "\n",
    "A continuación vamos a dar una lista de los módulos que operan algunos tipos de Base de Datos:\n",
    "\n",
    "    Relacionales:\n",
    "    \n",
    "    MySQL:      pymysql, mysqldb\n",
    "    Oracle:     cx_oracle, pandas-oracle\n",
    "    SQL-Server: pyodbc\n",
    "    Postgress:  psycopg2\n",
    "    \n",
    "    NoSQL:\n",
    "    \n",
    "    MongoDB:    pymongo\n",
    "    Neo4J:      py2neo\n",
    "    Redis:      redis\n",
    "    Cassandra:  cassandra-driver\n",
    "\n",
    "\n",
    "Además, existen módulos TODO-EN-1 como SQLAlchemy y SQLObject que pueden trabajar con distintos tipos de bases de datos sin tener que instalar todos los modulos."
   ]
  },
  {
   "cell_type": "code",
   "execution_count": null,
   "metadata": {},
   "outputs": [],
   "source": []
  }
 ],
 "metadata": {
  "kernelspec": {
   "display_name": "Python 3",
   "language": "python",
   "name": "python3"
  },
  "language_info": {
   "codemirror_mode": {
    "name": "ipython",
    "version": 3
   },
   "file_extension": ".py",
   "mimetype": "text/x-python",
   "name": "python",
   "nbconvert_exporter": "python",
   "pygments_lexer": "ipython3",
   "version": "3.6.8"
  }
 },
 "nbformat": 4,
 "nbformat_minor": 1
}
