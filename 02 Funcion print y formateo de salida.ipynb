{
 "cells": [
  {
   "cell_type": "markdown",
   "metadata": {},
   "source": [
    "# Instrucción Print"
   ]
  },
  {
   "cell_type": "markdown",
   "metadata": {},
   "source": [
    "En Python la instrucción **print** es muy importante. Será la forma de mostrar resultados no gráficos, por lo que le vamos a dedicar una especial atención. Se puede utilizar de distintas maneras:"
   ]
  },
  {
   "cell_type": "code",
   "execution_count": 9,
   "metadata": {},
   "outputs": [
    {
     "name": "stdout",
     "output_type": "stream",
     "text": [
      "Hola Mundo\n"
     ]
    }
   ],
   "source": [
    "print (\"Hola Mundo\") #impresión de cadenas, se pueden usar comillas simples o dobles"
   ]
  },
  {
   "cell_type": "code",
   "execution_count": 10,
   "metadata": {
    "scrolled": true
   },
   "outputs": [],
   "source": [
    "cadena1 = 'Mundo'\n",
    "cadena2 = '!'"
   ]
  },
  {
   "cell_type": "markdown",
   "metadata": {},
   "source": [
    "Se pueden concatenar variables directamente con el símbolo **+**"
   ]
  },
  {
   "cell_type": "code",
   "execution_count": 11,
   "metadata": {},
   "outputs": [
    {
     "name": "stdout",
     "output_type": "stream",
     "text": [
      "Hola Mundo!\n"
     ]
    }
   ],
   "source": [
    "print ('Hola ' + cadena1 + cadena2)"
   ]
  },
  {
   "cell_type": "markdown",
   "metadata": {},
   "source": [
    "El parámetro **%s** se usa para referirse a una variable que contiene una cadena. Esto nos permite dar formato a la salida de la instrucción print."
   ]
  },
  {
   "cell_type": "code",
   "execution_count": 12,
   "metadata": {},
   "outputs": [
    {
     "name": "stdout",
     "output_type": "stream",
     "text": [
      "Hola Mundo\n"
     ]
    }
   ],
   "source": [
    "print (\"Hola %s\" %cadena1)"
   ]
  },
  {
   "cell_type": "markdown",
   "metadata": {},
   "source": [
    "Igualemente, podemos usar similares parámetros para otros tipos de datos.\n",
    "    - %s -> string\n",
    "    - %d -> Integer\n",
    "    - %f -> Float\n",
    "    - %o -> Octal\n",
    "    - %x -> Hexadecimal\n",
    "    - %e -> exponential\n",
    "    \n",
    "También puede usarse para convertir tipos de datos dentro del comando print"
   ]
  },
  {
   "cell_type": "code",
   "execution_count": 13,
   "metadata": {},
   "outputs": [
    {
     "name": "stdout",
     "output_type": "stream",
     "text": [
      "Número entero = 18\n",
      "Decimal equivalente de ese número = 18.000000\n",
      "Equivalente Octal del número = 22\n",
      "Equivalente Hexadecimal del número = 12\n",
      "Exponencial equivalente del número = 1.800000e+01\n"
     ]
    }
   ],
   "source": [
    "print (\"Número entero = %d\" %18)\n",
    "print (\"Decimal equivalente de ese número = %f\" %18)\n",
    "print (\"Equivalente Octal del número = %o\" %18)\n",
    "print (\"Equivalente Hexadecimal del número = %x\" %18)\n",
    "print (\"Exponencial equivalente del número = %e\" %18)"
   ]
  },
  {
   "cell_type": "markdown",
   "metadata": {},
   "source": [
    "Cuando nos referimos a múltiples variables, es necesario que estas variables estén entre paréntesis."
   ]
  },
  {
   "cell_type": "code",
   "execution_count": 14,
   "metadata": {},
   "outputs": [
    {
     "name": "stdout",
     "output_type": "stream",
     "text": [
      "Hola Mundo !\n"
     ]
    }
   ],
   "source": [
    "print (\"Hola %s %s\" %(cadena1,cadena2))"
   ]
  },
  {
   "cell_type": "markdown",
   "metadata": {},
   "source": [
    "## Other Examples"
   ]
  },
  {
   "cell_type": "markdown",
   "metadata": {},
   "source": [
    "A continuación, otras formas de imprimir información:"
   ]
  },
  {
   "cell_type": "code",
   "execution_count": 15,
   "metadata": {},
   "outputs": [
    {
     "name": "stdout",
     "output_type": "stream",
     "text": [
      "Imprimiendo el comando %d directamente y añadiendo un texto aquí\n"
     ]
    }
   ],
   "source": [
    "print (\"Imprimiendo el comando %%d directamente y añadiendo un texto %s\" %'aquí')"
   ]
  },
  {
   "cell_type": "code",
   "execution_count": 17,
   "metadata": {},
   "outputs": [
    {
     "name": "stdout",
     "output_type": "stream",
     "text": [
      "_A_A_A_A_A_A_A_A_A_A\n"
     ]
    }
   ],
   "source": [
    "print ('_A'*10)   #imprime diez veces el texto"
   ]
  },
  {
   "cell_type": "code",
   "execution_count": 19,
   "metadata": {},
   "outputs": [
    {
     "name": "stdout",
     "output_type": "stream",
     "text": [
      "Ene\n",
      "Feb\n",
      "Mar\n",
      "Abr\n",
      "May\n",
      "Jun\n",
      "Jul\n",
      "Ago\n"
     ]
    }
   ],
   "source": [
    "print (\"Ene\\nFeb\\nMar\\nAbr\\nMay\\nJun\\nJul\\nAgo\") #Saltos de linea incluidos en el texto"
   ]
  },
  {
   "cell_type": "code",
   "execution_count": 20,
   "metadata": {},
   "outputs": [
    {
     "name": "stdout",
     "output_type": "stream",
     "text": [
      "Imprimiendo el salto de línea \\n \n"
     ]
    }
   ],
   "source": [
    "print (\"Imprimiendo el salto de línea \\\\n \")"
   ]
  },
  {
   "cell_type": "code",
   "execution_count": 23,
   "metadata": {},
   "outputs": [
    {
     "name": "stdout",
     "output_type": "stream",
     "text": [
      "\n",
      "Rutina dura:\n",
      "\t- Comer\n",
      "\t- Dormir\n",
      "\t- Volver a repetir desde el primer paso\n",
      "\n"
     ]
    }
   ],
   "source": [
    "print (\"\"\"\n",
    "Rutina dura:\n",
    "\\t- Comer\n",
    "\\t- Dormir\\n\\t- Volver a repetir desde el primer paso\n",
    "\"\"\")  # formato de varias líneas con tabulado"
   ]
  },
  {
   "cell_type": "markdown",
   "metadata": {},
   "source": [
    "# Ancho de campo y longitud de precision"
   ]
  },
  {
   "cell_type": "markdown",
   "metadata": {},
   "source": [
    "El ancho de campo **Fieldwidth** son los dígitos de un número entero y longitud de precisión **Precisionwidth** son los dígitos a la derecha de la coma de un número con decimales\n",
    "La longitud de precisión es por defecto 6."
   ]
  },
  {
   "cell_type": "code",
   "execution_count": 24,
   "metadata": {},
   "outputs": [
    {
     "data": {
      "text/plain": [
       "'3.121312'"
      ]
     },
     "execution_count": 24,
     "metadata": {},
     "output_type": "execute_result"
    }
   ],
   "source": [
    "\"%f\" % 3.121312312312"
   ]
  },
  {
   "cell_type": "markdown",
   "metadata": {},
   "source": [
    "A peser de que el número tiene muchos decimales, sólo se devuelven 6. \n",
    "\n",
    "Para especificar el número de decimales se utiliza este formato: **'%(fieldwidth).(precisionwidth)f'**"
   ]
  },
  {
   "cell_type": "code",
   "execution_count": 15,
   "metadata": {},
   "outputs": [
    {
     "data": {
      "text/plain": [
       "'3.12131'"
      ]
     },
     "execution_count": 15,
     "metadata": {},
     "output_type": "execute_result"
    }
   ],
   "source": [
    "\"%.5f\" % 3.121312312312"
   ]
  },
  {
   "cell_type": "markdown",
   "metadata": {},
   "source": [
    "Se añaden ceros a la derecha de la parte entera si escribimos:"
   ]
  },
  {
   "cell_type": "code",
   "execution_count": 25,
   "metadata": {},
   "outputs": [
    {
     "data": {
      "text/plain": [
       "'00000000000003.12131'"
      ]
     },
     "execution_count": 25,
     "metadata": {},
     "output_type": "execute_result"
    }
   ],
   "source": [
    "\"%020.5f\" % 3.121312312312"
   ]
  },
  {
   "cell_type": "markdown",
   "metadata": {},
   "source": [
    "Siempre se reserva un espacio para el símbolo negativo. Espacio si es positivo."
   ]
  },
  {
   "cell_type": "code",
   "execution_count": 26,
   "metadata": {},
   "outputs": [
    {
     "name": "stdout",
     "output_type": "stream",
     "text": [
      " 3.121312\n",
      "-3.121312\n"
     ]
    }
   ],
   "source": [
    "print (\"% 9f\" % 3.121312312312) # el nueve indica longitud total del número, incluidos puntos, signos y dígitos\n",
    "print (\"% 9f\" % -3.121312312312)"
   ]
  },
  {
   "cell_type": "markdown",
   "metadata": {},
   "source": [
    "Se puede añadir el signo **'+'** al principio de la secuencia añadiendo el más antes del número que indica la cantidad de dígitos."
   ]
  },
  {
   "cell_type": "code",
   "execution_count": 27,
   "metadata": {},
   "outputs": [
    {
     "name": "stdout",
     "output_type": "stream",
     "text": [
      "+3.121312\n",
      "-3.121312\n"
     ]
    }
   ],
   "source": [
    "print (\"%+9f\" % 3.121312312312)\n",
    "print (\"% 9f\" % -3.121312312312)"
   ]
  },
  {
   "cell_type": "markdown",
   "metadata": {},
   "source": [
    "Si queremos cambiar el alineamiento del número, colocamos un signo **'-'** antes del número que indica la cantidad de dígitos."
   ]
  },
  {
   "cell_type": "code",
   "execution_count": 28,
   "metadata": {},
   "outputs": [
    {
     "data": {
      "text/plain": [
       "'3.121    '"
      ]
     },
     "execution_count": 28,
     "metadata": {},
     "output_type": "execute_result"
    }
   ],
   "source": [
    "\"%-9.3f\" % 3.121312312312"
   ]
  }
 ],
 "metadata": {
  "kernelspec": {
   "display_name": "Python 3",
   "language": "python",
   "name": "python3"
  },
  "language_info": {
   "codemirror_mode": {
    "name": "ipython",
    "version": 3
   },
   "file_extension": ".py",
   "mimetype": "text/x-python",
   "name": "python",
   "nbconvert_exporter": "python",
   "pygments_lexer": "ipython3",
   "version": "3.6.6"
  }
 },
 "nbformat": 4,
 "nbformat_minor": 1
}
